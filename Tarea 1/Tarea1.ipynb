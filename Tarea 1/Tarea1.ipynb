{
 "cells": [
  {
   "cell_type": "code",
   "execution_count": 1,
   "metadata": {},
   "outputs": [
    {
     "name": "stdout",
     "output_type": "stream",
     "text": [
      "\"Hola mundo\"\n"
     ]
    }
   ],
   "source": [
    "print('\"Hola mundo\"')"
   ]
  },
  {
   "cell_type": "code",
   "execution_count": 2,
   "metadata": {},
   "outputs": [
    {
     "name": "stdout",
     "output_type": "stream",
     "text": [
      "Hola, mi nombre es Geovanny, tengo 22 años y soy de Costa Rica.\n"
     ]
    }
   ],
   "source": [
    "nombre = \"Geovanny\"\n",
    "edad = 22\n",
    "pais = \"Costa Rica\"\n",
    "\n",
    "print(\"Hola, mi nombre es \" + str(nombre) + \", tengo \" + str(edad) + \" años y soy de \" + str(pais) + \".\")"
   ]
  },
  {
   "cell_type": "code",
   "execution_count": 3,
   "metadata": {},
   "outputs": [
    {
     "name": "stdout",
     "output_type": "stream",
     "text": [
      "Variables y tipos de datos:\n",
      "\n",
      "nombre: <class 'str'>\n",
      "edad: <class 'int'>\n",
      "pais: <class 'str'>\n",
      "\n",
      "Las variables \"nombre\", \"edad\" y \"pais\" son tipo string, integer y string, respectivamente.\n"
     ]
    }
   ],
   "source": [
    "print(\"Variables y tipos de datos:\")\n",
    "print(\"\")\n",
    "print(\"nombre: \" + str(type(nombre)))\n",
    "print(\"edad: \" + str(type(edad)))\n",
    "print(\"pais: \" + str(type(pais)))\n",
    "print(\"\")\n",
    "print('Las variables \"nombre\", \"edad\" y \"pais\" son tipo string, integer y string, respectivamente.') \n"
   ]
  },
  {
   "cell_type": "code",
   "execution_count": 4,
   "metadata": {},
   "outputs": [
    {
     "name": "stdout",
     "output_type": "stream",
     "text": [
      "En astronomía, la clasificación estelar \n",
      "es la clasificación de las estrellas en \n",
      "función de sus características espectrales.\n"
     ]
    }
   ],
   "source": [
    "print(\"En astronomía, la clasificación estelar \\nes la clasificación de las estrellas en \\nfunción de sus características espectrales.\")"
   ]
  },
  {
   "cell_type": "code",
   "execution_count": 5,
   "metadata": {},
   "outputs": [
    {
     "name": "stdout",
     "output_type": "stream",
     "text": [
      "Hipergigantes---Subgigantes---Secuencia principal \\*"
     ]
    }
   ],
   "source": [
    "print(\"Hipergigantes\",\"Subgigantes\",\"Secuencia principal\" , sep=\"---\", end=\" \\*\")"
   ]
  },
  {
   "cell_type": "code",
   "execution_count": 6,
   "metadata": {},
   "outputs": [
    {
     "name": "stdout",
     "output_type": "stream",
     "text": [
      "La masa de Júpiter es de aproximadamente 1.8978244274809163e+27 kg\n"
     ]
    }
   ],
   "source": [
    "m_solar = 1.98892*10**30 #kg\n",
    "m_jupiter = m_solar/1048 #kg\n",
    "\n",
    "print(f\"La masa de Júpiter es de aproximadamente {m_jupiter} kg\")"
   ]
  },
  {
   "cell_type": "code",
   "execution_count": 10,
   "metadata": {},
   "outputs": [
    {
     "name": "stdout",
     "output_type": "stream",
     "text": [
      "False\n",
      "False\n",
      "True\n",
      "True\n",
      "True\n"
     ]
    }
   ],
   "source": [
    "au = 149597870700 #m\n",
    "\n",
    "d_mercurio = 0.389*au\n",
    "d_venus = 0.723*au\n",
    "d_marte = 1.524*au\n",
    "d_jupiter = 5.203*au\n",
    "d_saturno = 9.537*au\n",
    "\n",
    "d_solarsys = [d_mercurio,d_venus,d_marte,d_jupiter,d_saturno]\n",
    "\n",
    "for i in range(len(d_solarsys)):\n",
    "    if d_solarsys[i] > au:\n",
    "        print(\"True\")\n",
    "    elif d_solarsys[i] < au:\n",
    "        print(\"False\")"
   ]
  },
  {
   "cell_type": "code",
   "execution_count": null,
   "metadata": {},
   "outputs": [],
   "source": []
  }
 ],
 "metadata": {
  "kernelspec": {
   "display_name": "Python 3",
   "language": "python",
   "name": "python3"
  },
  "language_info": {
   "codemirror_mode": {
    "name": "ipython",
    "version": 3
   },
   "file_extension": ".py",
   "mimetype": "text/x-python",
   "name": "python",
   "nbconvert_exporter": "python",
   "pygments_lexer": "ipython3",
   "version": "3.6.9"
  }
 },
 "nbformat": 4,
 "nbformat_minor": 4
}
