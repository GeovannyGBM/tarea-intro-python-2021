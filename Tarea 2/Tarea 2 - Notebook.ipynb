{
 "cells": [
  {
   "cell_type": "markdown",
   "metadata": {},
   "source": [
    "# Tarea 2"
   ]
  },
  {
   "cell_type": "markdown",
   "metadata": {},
   "source": [
    "## Primera Parte"
   ]
  },
  {
   "cell_type": "code",
   "execution_count": 61,
   "metadata": {},
   "outputs": [
    {
     "name": "stdout",
     "output_type": "stream",
     "text": [
      "1)\n"
     ]
    },
    {
     "data": {
      "text/plain": [
       "['M1', 'M200', 'M17', 'M31', 'M87', 'M104']"
      ]
     },
     "execution_count": 61,
     "metadata": {},
     "output_type": "execute_result"
    }
   ],
   "source": [
    "print('1)')\n",
    "\n",
    "list_messier = ['M1','M200','M17','M31','M87','M104']\n",
    "list_messier"
   ]
  },
  {
   "cell_type": "code",
   "execution_count": 62,
   "metadata": {},
   "outputs": [
    {
     "name": "stdout",
     "output_type": "stream",
     "text": [
      "2)\n"
     ]
    },
    {
     "data": {
      "text/plain": [
       "['M1', 'M200', 'M17', 'M31', 'M87', 'M104', 'M97']"
      ]
     },
     "execution_count": 62,
     "metadata": {},
     "output_type": "execute_result"
    }
   ],
   "source": [
    "print('2)')\n",
    "\n",
    "list_messier.append('M97')\n",
    "list_messier"
   ]
  },
  {
   "cell_type": "code",
   "execution_count": 63,
   "metadata": {},
   "outputs": [
    {
     "name": "stdout",
     "output_type": "stream",
     "text": [
      "3)\n"
     ]
    },
    {
     "data": {
      "text/plain": [
       "'M17'"
      ]
     },
     "execution_count": 63,
     "metadata": {},
     "output_type": "execute_result"
    }
   ],
   "source": [
    "print('3)')\n",
    "\n",
    "list_messier[2]"
   ]
  },
  {
   "cell_type": "code",
   "execution_count": 64,
   "metadata": {},
   "outputs": [
    {
     "name": "stdout",
     "output_type": "stream",
     "text": [
      "4)\n"
     ]
    },
    {
     "data": {
      "text/plain": [
       "'M97'"
      ]
     },
     "execution_count": 64,
     "metadata": {},
     "output_type": "execute_result"
    }
   ],
   "source": [
    "print('4)')\n",
    "list_messier[-1]"
   ]
  },
  {
   "cell_type": "code",
   "execution_count": 65,
   "metadata": {},
   "outputs": [
    {
     "name": "stdout",
     "output_type": "stream",
     "text": [
      "5)\n"
     ]
    },
    {
     "data": {
      "text/plain": [
       "['M200', 'M17', 'M31']"
      ]
     },
     "execution_count": 65,
     "metadata": {},
     "output_type": "execute_result"
    }
   ],
   "source": [
    "print('5)')\n",
    "list_messier[1:4]"
   ]
  },
  {
   "cell_type": "code",
   "execution_count": 66,
   "metadata": {},
   "outputs": [
    {
     "name": "stdout",
     "output_type": "stream",
     "text": [
      "6-\n"
     ]
    },
    {
     "data": {
      "text/plain": [
       "7"
      ]
     },
     "execution_count": 66,
     "metadata": {},
     "output_type": "execute_result"
    }
   ],
   "source": [
    "print('6)')\n",
    "\n",
    "len(list_messier)"
   ]
  },
  {
   "cell_type": "code",
   "execution_count": 69,
   "metadata": {},
   "outputs": [
    {
     "name": "stdout",
     "output_type": "stream",
     "text": [
      "7)\n",
      "\n",
      "\"M87\" se encuentra dentro de esta lista\n"
     ]
    }
   ],
   "source": [
    "print('7)\\n')\n",
    "\n",
    "if 'M87' in list_messier:\n",
    "    print('\"M87\" se encuentra dentro de esta lista')"
   ]
  },
  {
   "cell_type": "code",
   "execution_count": 70,
   "metadata": {},
   "outputs": [
    {
     "name": "stdout",
     "output_type": "stream",
     "text": [
      "8)\n"
     ]
    },
    {
     "data": {
      "text/plain": [
       "['M1', 'NGC205', 'M17', 'M31', 'M87', 'M104', 'M97']"
      ]
     },
     "execution_count": 70,
     "metadata": {},
     "output_type": "execute_result"
    }
   ],
   "source": [
    "print('8)')\n",
    "\n",
    "list_messier[1] = 'NGC205'\n",
    "list_messier"
   ]
  },
  {
   "cell_type": "code",
   "execution_count": 71,
   "metadata": {},
   "outputs": [
    {
     "name": "stdout",
     "output_type": "stream",
     "text": [
      "9)\n"
     ]
    },
    {
     "data": {
      "text/plain": [
       "['M1', 'M7', 'NGC205', 'M17', 'M31', 'M87', 'M104', 'M97']"
      ]
     },
     "execution_count": 71,
     "metadata": {},
     "output_type": "execute_result"
    }
   ],
   "source": [
    "print('9)')\n",
    "list_messier.insert(1,'M7')\n",
    "list_messier"
   ]
  },
  {
   "cell_type": "code",
   "execution_count": 72,
   "metadata": {},
   "outputs": [
    {
     "name": "stdout",
     "output_type": "stream",
     "text": [
      "10)\n"
     ]
    },
    {
     "data": {
      "text/plain": [
       "['M1', 'M7', 'NGC205', 'M17', 'M87', 'M104', 'M97']"
      ]
     },
     "execution_count": 72,
     "metadata": {},
     "output_type": "execute_result"
    }
   ],
   "source": [
    "print('10)')\n",
    "\n",
    "list_messier.remove('M31')\n",
    "list_messier"
   ]
  },
  {
   "cell_type": "code",
   "execution_count": 73,
   "metadata": {},
   "outputs": [
    {
     "name": "stdout",
     "output_type": "stream",
     "text": [
      "11)\n"
     ]
    },
    {
     "data": {
      "text/plain": [
       "['M7', 'NGC205', 'M17', 'M87', 'M104', 'M97']"
      ]
     },
     "execution_count": 73,
     "metadata": {},
     "output_type": "execute_result"
    }
   ],
   "source": [
    "print('11)')\n",
    "\n",
    "list_messier.pop(0)\n",
    "list_messier"
   ]
  },
  {
   "cell_type": "code",
   "execution_count": 74,
   "metadata": {},
   "outputs": [
    {
     "name": "stdout",
     "output_type": "stream",
     "text": [
      "12)\n"
     ]
    },
    {
     "data": {
      "text/plain": [
       "['M7', 'NGC205', 'M17', 'M87', 'M97']"
      ]
     },
     "execution_count": 74,
     "metadata": {},
     "output_type": "execute_result"
    }
   ],
   "source": [
    "print('12)')\n",
    "\n",
    "del list_messier[-2]\n",
    "list_messier"
   ]
  },
  {
   "cell_type": "code",
   "execution_count": 75,
   "metadata": {},
   "outputs": [
    {
     "name": "stdout",
     "output_type": "stream",
     "text": [
      "13)\n"
     ]
    },
    {
     "data": {
      "text/plain": [
       "[]"
      ]
     },
     "execution_count": 75,
     "metadata": {},
     "output_type": "execute_result"
    }
   ],
   "source": [
    "print('13)')\n",
    "\n",
    "list_messier.clear()\n",
    "list_messier"
   ]
  },
  {
   "cell_type": "code",
   "execution_count": 76,
   "metadata": {},
   "outputs": [
    {
     "name": "stdout",
     "output_type": "stream",
     "text": [
      "La lista sí existe aún como una lista vacía.\n"
     ]
    }
   ],
   "source": [
    "print('La lista sí existe aún como una lista vacía.')"
   ]
  },
  {
   "cell_type": "code",
   "execution_count": 78,
   "metadata": {},
   "outputs": [
    {
     "name": "stdout",
     "output_type": "stream",
     "text": [
      "14)\n"
     ]
    },
    {
     "ename": "NameError",
     "evalue": "name 'list_messier' is not defined",
     "output_type": "error",
     "traceback": [
      "\u001b[0;31m---------------------------------------------------------------------------\u001b[0m",
      "\u001b[0;31mNameError\u001b[0m                                 Traceback (most recent call last)",
      "\u001b[0;32m<ipython-input-78-2ec4fbe374d4>\u001b[0m in \u001b[0;36m<module>\u001b[0;34m\u001b[0m\n\u001b[1;32m      1\u001b[0m \u001b[0mprint\u001b[0m\u001b[0;34m(\u001b[0m\u001b[0;34m'14)'\u001b[0m\u001b[0;34m)\u001b[0m\u001b[0;34m\u001b[0m\u001b[0;34m\u001b[0m\u001b[0m\n\u001b[1;32m      2\u001b[0m \u001b[0;34m\u001b[0m\u001b[0m\n\u001b[0;32m----> 3\u001b[0;31m \u001b[0;32mdel\u001b[0m \u001b[0mlist_messier\u001b[0m\u001b[0;34m\u001b[0m\u001b[0;34m\u001b[0m\u001b[0m\n\u001b[0m\u001b[1;32m      4\u001b[0m \u001b[0mlist_messier\u001b[0m\u001b[0;34m\u001b[0m\u001b[0;34m\u001b[0m\u001b[0m\n",
      "\u001b[0;31mNameError\u001b[0m: name 'list_messier' is not defined"
     ]
    }
   ],
   "source": [
    "print('14)')\n",
    "\n",
    "del list_messier \n",
    "list_messier"
   ]
  },
  {
   "cell_type": "code",
   "execution_count": 79,
   "metadata": {},
   "outputs": [
    {
     "name": "stdout",
     "output_type": "stream",
     "text": [
      "Si se intenta llamar a la lista \"list_messier\" se produce un error que indica que \"lis_messier\" no está definida. Esto significa que la función \"del\" borra la información asociada a la variable sobre la que se aplica\n"
     ]
    }
   ],
   "source": [
    "print('Si se intenta llamar a la lista \"list_messier\" se produce un error que indica que \"lis_messier\" no está definida. Esto significa que la función \"del\" borra la información asociada a la variable sobre la que se aplica')"
   ]
  },
  {
   "cell_type": "markdown",
   "metadata": {},
   "source": [
    "## Segunda Parte"
   ]
  },
  {
   "cell_type": "code",
   "execution_count": 82,
   "metadata": {},
   "outputs": [
    {
     "name": "stdout",
     "output_type": "stream",
     "text": [
      "1)\n",
      "\n",
      "a)\n"
     ]
    }
   ],
   "source": [
    "print('1)\\n\\na)')\n",
    "\n",
    "\n",
    "list_masas = [3.302e23,4.8690e24,5.9742e24,6.4191e23,1.8987e27,5.6851e26,8.6849e25,1.0244e26]"
   ]
  },
  {
   "cell_type": "code",
   "execution_count": 84,
   "metadata": {},
   "outputs": [
    {
     "name": "stdout",
     "output_type": "stream",
     "text": [
      "b)\n",
      "\n",
      "El valor máximo en la lista es 1.8987e+27.\n"
     ]
    }
   ],
   "source": [
    "print('b)\\n')\n",
    "\n",
    "print('El valor máximo en la lista es ' + str(max(list_masas)) + '.')"
   ]
  },
  {
   "cell_type": "code",
   "execution_count": 86,
   "metadata": {},
   "outputs": [
    {
     "name": "stdout",
     "output_type": "stream",
     "text": [
      "c)\n",
      "\n",
      "Función sum():\n",
      "Masa total: 2.66831431e+27 kg.\n",
      "\n",
      "Iterando:\n",
      "Masa total: 2.66831431e+27 kg.\n"
     ]
    }
   ],
   "source": [
    "print('c)\\n')\n",
    "\n",
    "print('Función sum():')\n",
    "\n",
    "print('Masa total: ' + str(sum(list_masas)) + ' kg.')\n",
    "\n",
    "print('\\nIterando:')\n",
    "\n",
    "masa_n = 0\n",
    "total_masas = []\n",
    "for x in list_masas:\n",
    "    masa_n = masa_n + x\n",
    "    total_masas = masa_n\n",
    "    \n",
    "print('Masa total: ' + str(total_masas) + ' kg.')"
   ]
  },
  {
   "cell_type": "code",
   "execution_count": 88,
   "metadata": {},
   "outputs": [
    {
     "name": "stdout",
     "output_type": "stream",
     "text": [
      "d)\n",
      "\n",
      "La masa de los planetas es aproximadamente un 0.13 % de la masa del Sol\n"
     ]
    }
   ],
   "source": [
    "print('d)\\n')\n",
    "\n",
    "masa_solar = 2e30 #kg\n",
    "porcentaje = (total_masas/masa_solar)*100\n",
    "print('La masa de los planetas es aproximadamente un ' + str(round(porcentaje,2)) + ' % de la masa del Sol')"
   ]
  },
  {
   "cell_type": "code",
   "execution_count": 92,
   "metadata": {},
   "outputs": [
    {
     "name": "stdout",
     "output_type": "stream",
     "text": [
      "2)\n",
      "\n",
      "Elementos del diccionario usando un FOR loop: \n",
      "\n",
      "Mercurio: 3.302e+23 kg.\n",
      "Venus: 4.869e+24 kg.\n",
      "Tierra: 5.9742e+24 kg.\n",
      "Marte: 6.4191e+23 kg.\n",
      "Júpiter: 1.8987e+27 kg.\n",
      "Saturno: 5.6851e+26 kg.\n",
      "Urano: 8.6849e+25 kg.\n",
      "Neptuno: 1.0244e+26 kg.\n"
     ]
    }
   ],
   "source": [
    "print('2)\\n')\n",
    "\n",
    "print('Elementos del diccionario usando un FOR loop: \\n')\n",
    "\n",
    "dic_masas = {'Mercurio':3.302e+23,'Venus':4.869e+24,'Tierra':5.9742e+24,\n",
    "             'Marte':6.4191e+23,'Júpiter':1.8987e+27,'Saturno':5.6851e+26,\n",
    "             'Urano':8.6849e+25,'Neptuno':1.0244e+26}\n",
    "\n",
    "for key in dic_masas:\n",
    "    print(str(key)+ ': ' + str(dic_masas[key]) + ' kg.')"
   ]
  },
  {
   "cell_type": "code",
   "execution_count": 93,
   "metadata": {},
   "outputs": [
    {
     "name": "stdout",
     "output_type": "stream",
     "text": [
      "3)\n",
      "\n",
      "Elementos del diccionario usando un WHILE loop: \n",
      "\n",
      "Mercurio: 3.302e+23 kg.\n",
      "Venus: 4.869e+24 kg.\n",
      "Tierra: 5.9742e+24 kg.\n",
      "Marte: 6.4191e+23 kg.\n",
      "Júpiter: 1.8987e+27 kg.\n",
      "Saturno: 5.6851e+26 kg.\n",
      "Urano: 8.6849e+25 kg.\n",
      "Neptuno: 1.0244e+26 kg.\n"
     ]
    }
   ],
   "source": [
    "print('3)\\n')\n",
    "\n",
    "print('Elementos del diccionario usando un WHILE loop: \\n')\n",
    "\n",
    "num_planetas = len(dic_masas)\n",
    "keys = list(dic_masas.keys())\n",
    "values = list(dic_masas.values())\n",
    "count = 0\n",
    "\n",
    "while count < num_planetas:\n",
    "    print(str(keys[count])+ ': ' + str(values[count]) + ' kg.')\n",
    "    count = count + 1 "
   ]
  },
  {
   "cell_type": "code",
   "execution_count": 94,
   "metadata": {},
   "outputs": [
    {
     "name": "stdout",
     "output_type": "stream",
     "text": [
      "4)\n",
      "\n",
      "Porcentaje de masa respecto al Sol para cada planeta: \n",
      "\n",
      "Mercurio: 1.7e-05 kg.\n",
      "Venus: 0.000243 kg.\n",
      "Tierra: 0.000299 kg.\n",
      "Marte: 3.2e-05 kg.\n",
      "Júpiter: 0.094935 kg.\n",
      "Saturno: 0.028426 kg.\n",
      "Urano: 0.004342 kg.\n",
      "Neptuno: 0.005122 kg.\n"
     ]
    }
   ],
   "source": [
    "print('4)\\n')\n",
    "\n",
    "print('Porcentaje de masa respecto al Sol para cada planeta: \\n')\n",
    "\n",
    "\n",
    "for planeta in dic_masas:\n",
    "    print(str(planeta) + ': ' + str(round((dic_masas[planeta]/masa_solar)*100,6)) + ' kg.')"
   ]
  },
  {
   "cell_type": "code",
   "execution_count": 97,
   "metadata": {},
   "outputs": [
    {
     "name": "stdout",
     "output_type": "stream",
     "text": [
      "5)\n",
      "\n",
      "Suma de todas las masas: \n",
      "\n",
      "Masa total = 2.66831431e+27 kg.\n"
     ]
    }
   ],
   "source": [
    "print('5)\\n')\n",
    "\n",
    "print('Suma de todas las masas: \\n')\n",
    "\n",
    "\n",
    "masa_n = 0\n",
    "masa_total = []\n",
    "for planeta in dic_masas:\n",
    "    masa_n = masa_n + dic_masas[planeta]\n",
    "    masa_total = masa_n\n",
    "    \n",
    "print('Masa total = ' + str(total_masas) + ' kg.')"
   ]
  },
  {
   "cell_type": "code",
   "execution_count": 98,
   "metadata": {},
   "outputs": [],
   "source": [
    "#6 \n",
    "\n",
    "archivo = open(\"archivo.txt\",\"w+\")\n",
    "archivo.write(\"La masa total de los planetas es: \" + str(masa_total) + ' kg.' ) \n",
    "archivo.close()"
   ]
  },
  {
   "cell_type": "markdown",
   "metadata": {},
   "source": [
    "## Ejercicios opcionales"
   ]
  },
  {
   "cell_type": "code",
   "execution_count": 99,
   "metadata": {},
   "outputs": [
    {
     "name": "stdout",
     "output_type": "stream",
     "text": [
      "1)\n",
      "\n",
      "[1, 2, 3, 4, 5, 6, 7, 8, 9, 10, 11, 12, 13, 14, 15, 16, 17, 18, 19, 20, 21, 22, 23, 24, 25]\n"
     ]
    }
   ],
   "source": [
    "print('1)\\n')\n",
    "\n",
    "n = 0 \n",
    "lista = list()\n",
    "for n in range(0,25):\n",
    "    n = n + 1\n",
    "    lista.append(n)\n",
    "print(lista)\n",
    "    \n"
   ]
  },
  {
   "cell_type": "code",
   "execution_count": 100,
   "metadata": {},
   "outputs": [
    {
     "name": "stdout",
     "output_type": "stream",
     "text": [
      "2\n",
      "4\n",
      "6\n",
      "8\n",
      "10\n",
      "12\n",
      "14\n",
      "16\n",
      "18\n",
      "20\n",
      "22\n",
      "24\n",
      "\n",
      "[2, 4, 6, 8, 10, 12, 14, 16, 18, 20, 22, 24]\n"
     ]
    }
   ],
   "source": [
    "num_pares = []\n",
    "for n in lista:\n",
    "    if n%2 == 0:\n",
    "        print(lista[n-1])\n",
    "        num_pares.append(lista[n-1])\n",
    "    else:\n",
    "        continue\n",
    "print('')\n",
    "print(num_pares)\n",
    "\n",
    "\n",
    "archivo = open(\"archivo.txt\",\"a+\")\n",
    "archivo.write('\\n\\nLos números pares en la lista son: ' + str(num_pares) ) \n",
    "archivo.close()"
   ]
  },
  {
   "cell_type": "code",
   "execution_count": 103,
   "metadata": {},
   "outputs": [
    {
     "name": "stdout",
     "output_type": "stream",
     "text": [
      "2)\n",
      "[['Mercurio', 3.302e+23], ['Marte', 6.4191e+23], ['Venus', 4.869e+24], ['Tierra', 5.9742e+24], ['Urano', 8.6849e+25], ['Neptuno', 1.0244e+26], ['Saturno', 5.6851e+26], ['Júpiter', 1.8987e+27]]\n"
     ]
    }
   ],
   "source": [
    "print('2)')\n",
    "\n",
    "lista_nombre = list(dic_masas.keys())\n",
    "lista_valor = list(dic_masas.values())\n",
    "\n",
    "lista_planetas = []\n",
    "for i in range(8):\n",
    "    lista_planetas.append([lista_nombre[i],lista_valor[i]])\n",
    "\n",
    "\n",
    "lista_planetas.sort(key=lambda x: x[1])\n",
    "print(lista_planetas)\n",
    "\n",
    "archivo = open(\"archivo.txt\",\"a+\")\n",
    "archivo.write('\\n\\nPlanetas ordenados: ' + str(lista_planetas) ) \n",
    "archivo.close()"
   ]
  },
  {
   "cell_type": "code",
   "execution_count": null,
   "metadata": {},
   "outputs": [],
   "source": []
  }
 ],
 "metadata": {
  "kernelspec": {
   "display_name": "Python 3",
   "language": "python",
   "name": "python3"
  },
  "language_info": {
   "codemirror_mode": {
    "name": "ipython",
    "version": 3
   },
   "file_extension": ".py",
   "mimetype": "text/x-python",
   "name": "python",
   "nbconvert_exporter": "python",
   "pygments_lexer": "ipython3",
   "version": "3.6.9"
  }
 },
 "nbformat": 4,
 "nbformat_minor": 4
}
